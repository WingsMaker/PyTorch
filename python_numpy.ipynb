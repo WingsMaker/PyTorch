{
 "cells": [
  {
   "cell_type": "markdown",
   "id": "aded8a5f",
   "metadata": {},
   "source": [
    "### Python Crash Course"
   ]
  },
  {
   "cell_type": "markdown",
   "id": "491ca7d2",
   "metadata": {},
   "source": [
    "https://ihis.udemy.com/course/pytorch-for-deep-learning-and-computer-vision/learn/lecture/20622758#content"
   ]
  },
  {
   "cell_type": "markdown",
   "id": "880efdd4",
   "metadata": {},
   "source": [
    "https://ihis.udemy.com/course/pytorch-for-deep-learning-and-computer-vision/learn/lecture/13345774#content"
   ]
  },
  {
   "cell_type": "code",
   "execution_count": 8,
   "id": "d00c0eae",
   "metadata": {},
   "outputs": [],
   "source": [
    "import numpy as np"
   ]
  },
  {
   "cell_type": "markdown",
   "id": "bfd21a06",
   "metadata": {},
   "source": [
    "### Array vs List"
   ]
  },
  {
   "cell_type": "markdown",
   "id": "a23ecb35",
   "metadata": {},
   "source": [
    "https://ihis.udemy.com/course/pytorch-for-deep-learning-and-computer-vision/learn/lecture/13346278#content"
   ]
  },
  {
   "cell_type": "code",
   "execution_count": 22,
   "id": "8f8c60c6",
   "metadata": {},
   "outputs": [
    {
     "name": "stdout",
     "output_type": "stream",
     "text": [
      "[ 2 12 36]\n"
     ]
    }
   ],
   "source": [
    "sample_array = np.arange(1,4)\n",
    "array_two =  sample_array ** 2\n",
    "array_three = np.power( sample_array, 3) \n",
    "array_sum = array_two + array_three\n",
    "print( array_sum )"
   ]
  },
  {
   "cell_type": "code",
   "execution_count": 16,
   "id": "355a1def",
   "metadata": {},
   "outputs": [
    {
     "name": "stdout",
     "output_type": "stream",
     "text": [
      "[-1 -2 -3]\n"
     ]
    }
   ],
   "source": [
    "print( np.negative( sample_array) )"
   ]
  },
  {
   "cell_type": "code",
   "execution_count": 18,
   "id": "3eced398",
   "metadata": {},
   "outputs": [
    {
     "name": "stdout",
     "output_type": "stream",
     "text": [
      "[ 2.71828183  7.3890561  20.08553692]\n"
     ]
    }
   ],
   "source": [
    "print( np.exp( sample_array  ) )"
   ]
  },
  {
   "cell_type": "code",
   "execution_count": 19,
   "id": "4af17b01",
   "metadata": {},
   "outputs": [
    {
     "name": "stdout",
     "output_type": "stream",
     "text": [
      "[0.         0.69314718 1.09861229]\n"
     ]
    }
   ],
   "source": [
    "print( np.log( sample_array  ) )"
   ]
  },
  {
   "cell_type": "code",
   "execution_count": 20,
   "id": "e1f5155d",
   "metadata": {},
   "outputs": [
    {
     "name": "stdout",
     "output_type": "stream",
     "text": [
      "[0.84147098 0.90929743 0.14112001]\n"
     ]
    }
   ],
   "source": [
    "print( np.sin( sample_array  ) )"
   ]
  },
  {
   "cell_type": "markdown",
   "id": "65074d53",
   "metadata": {},
   "source": [
    "### Multi-dimensions Array"
   ]
  },
  {
   "cell_type": "code",
   "execution_count": 21,
   "id": "96cd02ef",
   "metadata": {},
   "outputs": [
    {
     "name": "stdout",
     "output_type": "stream",
     "text": [
      "(3, 3)\n",
      "[[0 1 2]\n",
      " [0 1 2]\n",
      " [0 1 2]]\n"
     ]
    }
   ],
   "source": [
    "x = np.arange(3)\n",
    "y = np.arange(3)\n",
    "z = np.arange(3)\n",
    "m_arr = np.array([x,y,z])\n",
    "print(x)\n",
    "print( m_arr.shape )\n",
    "print(m_arr)"
   ]
  },
  {
   "cell_type": "code",
   "execution_count": 23,
   "id": "320fef55",
   "metadata": {},
   "outputs": [
    {
     "name": "stdout",
     "output_type": "stream",
     "text": [
      "[ 1.          1.18367347  1.36734694  1.55102041  1.73469388  1.91836735\n",
      "  2.10204082  2.28571429  2.46938776  2.65306122  2.83673469  3.02040816\n",
      "  3.20408163  3.3877551   3.57142857  3.75510204  3.93877551  4.12244898\n",
      "  4.30612245  4.48979592  4.67346939  4.85714286  5.04081633  5.2244898\n",
      "  5.40816327  5.59183673  5.7755102   5.95918367  6.14285714  6.32653061\n",
      "  6.51020408  6.69387755  6.87755102  7.06122449  7.24489796  7.42857143\n",
      "  7.6122449   7.79591837  7.97959184  8.16326531  8.34693878  8.53061224\n",
      "  8.71428571  8.89795918  9.08163265  9.26530612  9.44897959  9.63265306\n",
      "  9.81632653 10.        ]\n"
     ]
    }
   ],
   "source": [
    "w = np.linspace(1,10,50)\n",
    "print( w )"
   ]
  },
  {
   "cell_type": "code",
   "execution_count": 24,
   "id": "98260e0f",
   "metadata": {},
   "outputs": [
    {
     "name": "stdout",
     "output_type": "stream",
     "text": [
      "[ 1  4  7 10 13 16 19 22 25 28]\n"
     ]
    }
   ],
   "source": [
    "b = np.arange(1,30,3)\n",
    "print(b)"
   ]
  },
  {
   "cell_type": "code",
   "execution_count": 27,
   "id": "5abe12a0",
   "metadata": {},
   "outputs": [
    {
     "name": "stdout",
     "output_type": "stream",
     "text": [
      "[ 1.  4.  7. 10. 13. 16. 19. 22. 25. 28.]\n"
     ]
    }
   ],
   "source": [
    "b = np.linspace(1, 28, 10)\n",
    "print(b)"
   ]
  },
  {
   "cell_type": "code",
   "execution_count": 34,
   "id": "56860810",
   "metadata": {},
   "outputs": [
    {
     "name": "stdout",
     "output_type": "stream",
     "text": [
      "[ 1.  4.  7. 10. 13. 16. 19. 22. 25. 28.]\n"
     ]
    }
   ],
   "source": [
    "b = np.linspace(1, 31, 10, False)\n",
    "print(b)"
   ]
  },
  {
   "cell_type": "code",
   "execution_count": 44,
   "id": "62490ff0",
   "metadata": {},
   "outputs": [
    {
     "name": "stdout",
     "output_type": "stream",
     "text": [
      "(3, 3)\n",
      "[[0 1 2]\n",
      " [3 4 5]\n",
      " [6 7 8]]\n",
      "5\n",
      "uint8\n"
     ]
    }
   ],
   "source": [
    "x = np.arange(3)\n",
    "y = np.arange(3,6)\n",
    "z = np.arange(6,9)\n",
    "m_arr = np.array([x,y,z], dtype= np.uint8)\n",
    "print( m_arr.shape )\n",
    "print(m_arr)\n",
    "print(m_arr[1,2])\n",
    "print(m_arr.dtype)"
   ]
  },
  {
   "cell_type": "markdown",
   "id": "b71b2c6a",
   "metadata": {},
   "source": [
    "### One-dimension Slicing"
   ]
  },
  {
   "cell_type": "code",
   "execution_count": 45,
   "id": "2791ae8a",
   "metadata": {},
   "outputs": [
    {
     "name": "stdout",
     "output_type": "stream",
     "text": [
      "[1 2 3 4 5 6 7 8 9]\n"
     ]
    }
   ],
   "source": [
    "x = np.arange(1,10)\n",
    "print(x)"
   ]
  },
  {
   "cell_type": "code",
   "execution_count": 47,
   "id": "5eb0db5c",
   "metadata": {},
   "outputs": [
    {
     "name": "stdout",
     "output_type": "stream",
     "text": [
      "[3 5 7]\n"
     ]
    }
   ],
   "source": [
    "print( x[2:7:2])"
   ]
  },
  {
   "cell_type": "markdown",
   "id": "3cdae825",
   "metadata": {},
   "source": [
    "### Reshaping"
   ]
  },
  {
   "cell_type": "code",
   "execution_count": 77,
   "id": "13685dc2",
   "metadata": {},
   "outputs": [
    {
     "name": "stdout",
     "output_type": "stream",
     "text": [
      "[[[ 0  1  2  3]\n",
      "  [ 4  5  6  7]\n",
      "  [ 8  9 10 11]]\n",
      "\n",
      " [[12 13 14 15]\n",
      "  [16 17 18 19]\n",
      "  [20 21 22 23]]]\n"
     ]
    }
   ],
   "source": [
    "x = np.arange(24).reshape(2, 3, -1)\n",
    "print(x)"
   ]
  },
  {
   "cell_type": "code",
   "execution_count": 78,
   "id": "c381153e",
   "metadata": {},
   "outputs": [
    {
     "name": "stdout",
     "output_type": "stream",
     "text": [
      "[ 0  1  2  3  4  5  6  7  8  9 10 11 12 13 14 15 16 17 18 19 20 21 22 23]\n"
     ]
    }
   ],
   "source": [
    "y = x.reshape(-1)\n",
    "print(y)"
   ]
  },
  {
   "cell_type": "markdown",
   "id": "b810df13",
   "metadata": {},
   "source": [
    "### Multi-dimension Slicing"
   ]
  },
  {
   "cell_type": "code",
   "execution_count": 73,
   "id": "8fff8d59",
   "metadata": {},
   "outputs": [
    {
     "name": "stdout",
     "output_type": "stream",
     "text": [
      "[[16 17 18]\n",
      " [20 21 22]]\n"
     ]
    }
   ],
   "source": [
    "x = np.arange(24).reshape(2, 3, -1)\n",
    "y = x[1,1:,:3] \n",
    "print(y)"
   ]
  },
  {
   "cell_type": "code",
   "execution_count": 76,
   "id": "5fad5b8c",
   "metadata": {},
   "outputs": [
    {
     "name": "stdout",
     "output_type": "stream",
     "text": [
      "[ 4  5  6  7  8  9 10 11 12 13 14 15 16 17 18 19 20 21 22 23]\n"
     ]
    }
   ],
   "source": [
    "z = x[x>3]\n",
    "print(z)"
   ]
  },
  {
   "cell_type": "markdown",
   "id": "10299d55",
   "metadata": {},
   "source": [
    "### Manipulating Array Shapes"
   ]
  },
  {
   "cell_type": "code",
   "execution_count": 86,
   "id": "a8277002",
   "metadata": {},
   "outputs": [
    {
     "name": "stdout",
     "output_type": "stream",
     "text": [
      "[  0   1 100   3   4   5   6   7   8   9  10  11  12  13  14  15  16  17\n",
      "  18  19  20  21  22  23]\n",
      "[ 0  1  2  3  4  5  6  7  8  9 10 11 12 13 14 15 16 17 18 19 20 21 22 23]\n"
     ]
    }
   ],
   "source": [
    "x = np.arange(24).reshape(2, 3, -1)\n",
    "w = x.flatten()\n",
    "w[2] = 100\n",
    "print(w)\n",
    "print(x.ravel())"
   ]
  },
  {
   "cell_type": "code",
   "execution_count": 89,
   "id": "79985102",
   "metadata": {},
   "outputs": [
    {
     "name": "stdout",
     "output_type": "stream",
     "text": [
      "[[0 1 2]\n",
      " [3 4 5]\n",
      " [6 7 8]]\n",
      "[[0 3 6]\n",
      " [1 4 7]\n",
      " [2 5 8]]\n"
     ]
    }
   ],
   "source": [
    "y = np.arange(9)\n",
    "y.shape = [3,3]\n",
    "print(y)\n",
    "print(y.T)"
   ]
  },
  {
   "cell_type": "code",
   "execution_count": 88,
   "id": "1eada435",
   "metadata": {},
   "outputs": [
    {
     "name": "stdout",
     "output_type": "stream",
     "text": [
      "[[0 1 2 3 4 5]\n",
      " [6 7 8 0 1 2]\n",
      " [3 4 5 6 7 8]\n",
      " [0 1 2 3 4 5]\n",
      " [6 7 8 0 1 2]\n",
      " [3 4 5 6 7 8]]\n"
     ]
    }
   ],
   "source": [
    "print( np.resize(y,(6,6)))"
   ]
  },
  {
   "cell_type": "code",
   "execution_count": 93,
   "id": "7893cdee",
   "metadata": {},
   "outputs": [
    {
     "name": "stdout",
     "output_type": "stream",
     "text": [
      "[[1 1 1 1 1]\n",
      " [1 1 1 1 1]\n",
      " [1 1 1 1 1]]\n"
     ]
    }
   ],
   "source": [
    "print(np.ones((3,5), dtype=int))"
   ]
  },
  {
   "cell_type": "code",
   "execution_count": 94,
   "id": "f74cc4c3",
   "metadata": {},
   "outputs": [
    {
     "name": "stdout",
     "output_type": "stream",
     "text": [
      "[[1. 0. 0. 0. 0.]\n",
      " [0. 1. 0. 0. 0.]\n",
      " [0. 0. 1. 0. 0.]\n",
      " [0. 0. 0. 1. 0.]\n",
      " [0. 0. 0. 0. 1.]]\n"
     ]
    }
   ],
   "source": [
    "print( np.eye(5) )"
   ]
  },
  {
   "cell_type": "code",
   "execution_count": 96,
   "id": "454a2269",
   "metadata": {},
   "outputs": [
    {
     "name": "stdout",
     "output_type": "stream",
     "text": [
      "[[0.58369238 0.56085463 0.98581105 0.32473226]\n",
      " [0.44765054 0.72777197 0.758409   0.22119676]\n",
      " [0.76565339 0.78884018 0.8844923  0.02744545]\n",
      " [0.36417554 0.60050451 0.1512212  0.70913366]\n",
      " [0.66702941 0.25240991 0.6089537  0.96201526]\n",
      " [0.8939778  0.8563365  0.63798984 0.77686602]]\n"
     ]
    }
   ],
   "source": [
    "print( np.random.rand(6,4) )"
   ]
  },
  {
   "cell_type": "markdown",
   "id": "ff8b57e9",
   "metadata": {},
   "source": [
    "### Matrix Multipication"
   ]
  },
  {
   "cell_type": "code",
   "execution_count": 98,
   "id": "b3d86090",
   "metadata": {},
   "outputs": [
    {
     "data": {
      "text/plain": [
       "matrix([[0, 3, 5],\n",
       "        [6, 6, 2]])"
      ]
     },
     "execution_count": 98,
     "metadata": {},
     "output_type": "execute_result"
    }
   ],
   "source": [
    "mat_a = np.matrix([0,3,5,6,6,2]).reshape(2,3)\n",
    "mat_a"
   ]
  },
  {
   "cell_type": "code",
   "execution_count": 99,
   "id": "ebd219a1",
   "metadata": {},
   "outputs": [
    {
     "data": {
      "text/plain": [
       "matrix([[ 4,  3],\n",
       "        [ 4, -2],\n",
       "        [ 6, -2]])"
      ]
     },
     "execution_count": 99,
     "metadata": {},
     "output_type": "execute_result"
    }
   ],
   "source": [
    "mat_b = np.matrix([4,3,4,-2,6,-2]).reshape(3,2)\n",
    "mat_b"
   ]
  },
  {
   "cell_type": "code",
   "execution_count": 101,
   "id": "e3a5e8c3",
   "metadata": {},
   "outputs": [
    {
     "data": {
      "text/plain": [
       "matrix([[ 42, -16],\n",
       "        [ 60,   2]])"
      ]
     },
     "execution_count": 101,
     "metadata": {},
     "output_type": "execute_result"
    }
   ],
   "source": [
    "mat_c = np.matmul(mat_a, mat_b)\n",
    "mat_c "
   ]
  },
  {
   "cell_type": "code",
   "execution_count": 102,
   "id": "fff5176e",
   "metadata": {},
   "outputs": [
    {
     "data": {
      "text/plain": [
       "matrix([[ 42, -16],\n",
       "        [ 60,   2]])"
      ]
     },
     "execution_count": 102,
     "metadata": {},
     "output_type": "execute_result"
    }
   ],
   "source": [
    "mat_a @ mat_b"
   ]
  },
  {
   "cell_type": "markdown",
   "id": "19ef7536",
   "metadata": {},
   "source": [
    "### Stacking"
   ]
  },
  {
   "cell_type": "code",
   "execution_count": 103,
   "id": "daa713b2",
   "metadata": {},
   "outputs": [
    {
     "name": "stdout",
     "output_type": "stream",
     "text": [
      "[[0 1]\n",
      " [2 3]]\n",
      "[[4 5]\n",
      " [6 7]]\n"
     ]
    }
   ],
   "source": [
    "x = np.arange(4).reshape(2,2)\n",
    "y = np.arange(4,8).reshape(2,2)\n",
    "print(x)\n",
    "print(y)"
   ]
  },
  {
   "cell_type": "code",
   "execution_count": 105,
   "id": "33d4c870",
   "metadata": {},
   "outputs": [
    {
     "name": "stdout",
     "output_type": "stream",
     "text": [
      "[[0 1 4 5]\n",
      " [2 3 6 7]]\n",
      "(2, 4)\n"
     ]
    }
   ],
   "source": [
    "z = np.hstack((x,y))\n",
    "print(z)\n",
    "print(z.shape)"
   ]
  },
  {
   "cell_type": "code",
   "execution_count": 106,
   "id": "1a00751c",
   "metadata": {},
   "outputs": [
    {
     "name": "stdout",
     "output_type": "stream",
     "text": [
      "[[0 1]\n",
      " [2 3]\n",
      " [4 5]\n",
      " [6 7]]\n",
      "(4, 2)\n"
     ]
    }
   ],
   "source": [
    "w = np.vstack((x,y))\n",
    "print(w)\n",
    "print(w.shape)"
   ]
  },
  {
   "cell_type": "code",
   "execution_count": 109,
   "id": "a0d6cb74",
   "metadata": {},
   "outputs": [
    {
     "name": "stdout",
     "output_type": "stream",
     "text": [
      "[[0 1 4 5]\n",
      " [2 3 6 7]]\n",
      "[[ True  True  True  True]\n",
      " [ True  True  True  True]]\n"
     ]
    }
   ],
   "source": [
    "v= np.concatenate((x,y),axis=1)\n",
    "print(v)\n",
    "print( v = z)"
   ]
  },
  {
   "cell_type": "code",
   "execution_count": 110,
   "id": "83291daa",
   "metadata": {},
   "outputs": [
    {
     "name": "stdout",
     "output_type": "stream",
     "text": [
      "[[[0 4]\n",
      "  [1 5]]\n",
      "\n",
      " [[2 6]\n",
      "  [3 7]]]\n"
     ]
    }
   ],
   "source": [
    "d = np.dstack((x,y))\n",
    "print(d)"
   ]
  },
  {
   "cell_type": "code",
   "execution_count": 111,
   "id": "f3cae5ff",
   "metadata": {},
   "outputs": [
    {
     "name": "stdout",
     "output_type": "stream",
     "text": [
      "[[0 1 4 5]\n",
      " [2 3 6 7]]\n"
     ]
    }
   ],
   "source": [
    "c = np.column_stack((x,y))\n",
    "print(c)"
   ]
  },
  {
   "cell_type": "code",
   "execution_count": 112,
   "id": "8bc13c0b",
   "metadata": {},
   "outputs": [
    {
     "name": "stdout",
     "output_type": "stream",
     "text": [
      "[[0 1]\n",
      " [2 3]\n",
      " [4 5]\n",
      " [6 7]]\n"
     ]
    }
   ],
   "source": [
    "r = np.row_stack((x,y))\n",
    "print(r)"
   ]
  },
  {
   "cell_type": "code",
   "execution_count": null,
   "id": "793448ff",
   "metadata": {},
   "outputs": [],
   "source": []
  }
 ],
 "metadata": {
  "kernelspec": {
   "display_name": "Python 3 (ipykernel)",
   "language": "python",
   "name": "python3"
  },
  "language_info": {
   "codemirror_mode": {
    "name": "ipython",
    "version": 3
   },
   "file_extension": ".py",
   "mimetype": "text/x-python",
   "name": "python",
   "nbconvert_exporter": "python",
   "pygments_lexer": "ipython3",
   "version": "3.9.7"
  }
 },
 "nbformat": 4,
 "nbformat_minor": 5
}
