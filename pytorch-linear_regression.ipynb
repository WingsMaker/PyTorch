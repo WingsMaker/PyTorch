{
 "cells": [
  {
   "cell_type": "markdown",
   "id": "990da167",
   "metadata": {},
   "source": [
    "##  Linear Regression Model using PyTorch"
   ]
  },
  {
   "cell_type": "markdown",
   "id": "a2d782ed",
   "metadata": {},
   "source": [
    "https://github.com/rslim087a/PyTorch-for-Deep-Learning-and-Computer-Vision-Course-All-Codes-"
   ]
  },
  {
   "cell_type": "markdown",
   "id": "dc10541a",
   "metadata": {},
   "source": [
    "https://medium.com/learn-the-part/linear-regression-with-pytorch-ac8f163a14f"
   ]
  },
  {
   "cell_type": "markdown",
   "id": "3c5646fb",
   "metadata": {},
   "source": [
    "https://ihis.udemy.com/course/pytorch-for-deep-learning-and-computer-vision/learn/lecture/13302674#content"
   ]
  },
  {
   "cell_type": "markdown",
   "id": "d3d52b35",
   "metadata": {},
   "source": [
    "https://ihis.udemy.com/course/pytorch-for-deep-learning-and-computer-vision/learn/lecture/13302676#content"
   ]
  },
  {
   "cell_type": "raw",
   "id": "31b94f28",
   "metadata": {},
   "source": [
    "! python.exe -m pip install --upgrade pip"
   ]
  },
  {
   "cell_type": "raw",
   "id": "ed5f66a2",
   "metadata": {},
   "source": [
    "! pip3 install torch"
   ]
  },
  {
   "cell_type": "code",
   "execution_count": 1,
   "id": "6a53c022",
   "metadata": {},
   "outputs": [],
   "source": [
    "import torch\n",
    "import torch.nn as nn\n",
    "import matplotlib.pyplot as plt\n",
    "import numpy as np"
   ]
  },
  {
   "cell_type": "code",
   "execution_count": 2,
   "id": "fadcb533",
   "metadata": {},
   "outputs": [
    {
     "data": {
      "text/plain": [
       "<torch._C.Generator at 0x19349b1b0d0>"
      ]
     },
     "execution_count": 2,
     "metadata": {},
     "output_type": "execute_result"
    }
   ],
   "source": [
    "torch.manual_seed(1)"
   ]
  },
  {
   "cell_type": "code",
   "execution_count": 3,
   "id": "ce65255a",
   "metadata": {},
   "outputs": [
    {
     "data": {
      "text/plain": [
       "Text(0.5, 0, 'x')"
      ]
     },
     "execution_count": 3,
     "metadata": {},
     "output_type": "execute_result"
    },
    {
     "data": {
      "image/png": "[encoded data removed]",
      "text/plain": [
       "<Figure size 432x288 with 1 Axes>"
      ]
     },
     "metadata": {
      "needs_background": "light"
     },
     "output_type": "display_data"
    }
   ],
   "source": [
    "X = torch.randn(100, 1)*10\n",
    "y = X + 3*torch.randn(100, 1)\n",
    "plt.plot(X.numpy(), y.numpy(), 'o')\n",
    "plt.ylabel('y')\n",
    "plt.xlabel('x')"
   ]
  },
  {
   "cell_type": "code",
   "execution_count": 4,
   "id": "6ee8d8d2",
   "metadata": {},
   "outputs": [],
   "source": [
    "class LR(nn.Module):\n",
    "    def __init__(self, input_size, output_size):\n",
    "        super().__init__()\n",
    "        self.linear = nn.Linear(input_size, output_size)\n",
    "        \n",
    "    def forward(self, x):\n",
    "        pred = self.linear(x)\n",
    "        return pred"
   ]
  },
  {
   "cell_type": "code",
   "execution_count": 5,
   "id": "42447eeb",
   "metadata": {},
   "outputs": [],
   "source": [
    "model = LR(1,1)"
   ]
  },
  {
   "cell_type": "code",
   "execution_count": 6,
   "id": "4dab30ea",
   "metadata": {},
   "outputs": [],
   "source": [
    "def get_params():    \n",
    "    [w, b] = model.parameters()\n",
    "    return (w[0][0].item(), b[0].item())"
   ]
  },
  {
   "cell_type": "code",
   "execution_count": 7,
   "id": "7754d786",
   "metadata": {},
   "outputs": [],
   "source": [
    "def plot_fit():\n",
    "    w1, b1 = get_params()\n",
    "    x1 = np.array([-30, 30])\n",
    "    y1 = w1*x1 + b1\n",
    "    plt.plot(x1, y1, 'r')\n",
    "    plt.scatter(X, y)\n",
    "    plt.show()"
   ]
  },
  {
   "cell_type": "code",
   "execution_count": 8,
   "id": "20fcecc5",
   "metadata": {
    "scrolled": true
   },
   "outputs": [
    {
     "data": {
      "image/png": "[encoded data removed]",
      "text/plain": [
       "<Figure size 432x288 with 1 Axes>"
      ]
     },
     "metadata": {
      "needs_background": "light"
     },
     "output_type": "display_data"
    }
   ],
   "source": [
    "plot_fit()"
   ]
  },
  {
   "cell_type": "code",
   "execution_count": 9,
   "id": "24ac1aef",
   "metadata": {},
   "outputs": [],
   "source": [
    "criterion = nn.MSELoss()\n",
    "optimizer = torch.optim.SGD(model.parameters(), lr = 0.01)"
   ]
  },
  {
   "cell_type": "code",
   "execution_count": 10,
   "id": "abae32c5",
   "metadata": {},
   "outputs": [
    {
     "name": "stdout",
     "output_type": "stream",
     "text": [
      "epoch: 0 loss: 10.461551666259766\n",
      "epoch: 1 loss: 10.441458702087402\n",
      "epoch: 2 loss: 10.422207832336426\n",
      "epoch: 3 loss: 10.403764724731445\n",
      "epoch: 4 loss: 10.386094093322754\n",
      "epoch: 5 loss: 10.369162559509277\n",
      "epoch: 6 loss: 10.352940559387207\n",
      "epoch: 7 loss: 10.33739948272705\n",
      "epoch: 8 loss: 10.322510719299316\n",
      "epoch: 9 loss: 10.308245658874512\n",
      "epoch: 10 loss: 10.294576644897461\n",
      "epoch: 11 loss: 10.28148078918457\n",
      "epoch: 12 loss: 10.268933296203613\n",
      "epoch: 13 loss: 10.256913185119629\n",
      "epoch: 14 loss: 10.245394706726074\n",
      "epoch: 15 loss: 10.234357833862305\n",
      "epoch: 16 loss: 10.223782539367676\n",
      "epoch: 17 loss: 10.213652610778809\n",
      "epoch: 18 loss: 10.20394515991211\n",
      "epoch: 19 loss: 10.1946439743042\n",
      "epoch: 20 loss: 10.185731887817383\n",
      "epoch: 21 loss: 10.177194595336914\n",
      "epoch: 22 loss: 10.169012069702148\n",
      "epoch: 23 loss: 10.161172866821289\n",
      "epoch: 24 loss: 10.15366268157959\n",
      "epoch: 25 loss: 10.146464347839355\n",
      "epoch: 26 loss: 10.139568328857422\n",
      "epoch: 27 loss: 10.132962226867676\n",
      "epoch: 28 loss: 10.126629829406738\n",
      "epoch: 29 loss: 10.120563507080078\n",
      "epoch: 30 loss: 10.114751815795898\n",
      "epoch: 31 loss: 10.10918140411377\n",
      "epoch: 32 loss: 10.10384464263916\n",
      "epoch: 33 loss: 10.09873104095459\n",
      "epoch: 34 loss: 10.093830108642578\n",
      "epoch: 35 loss: 10.089136123657227\n",
      "epoch: 36 loss: 10.084636688232422\n",
      "epoch: 37 loss: 10.080326080322266\n",
      "epoch: 38 loss: 10.076194763183594\n",
      "epoch: 39 loss: 10.072236061096191\n",
      "epoch: 40 loss: 10.068443298339844\n",
      "epoch: 41 loss: 10.06480884552002\n",
      "epoch: 42 loss: 10.061326026916504\n",
      "epoch: 43 loss: 10.057987213134766\n",
      "epoch: 44 loss: 10.054790496826172\n",
      "epoch: 45 loss: 10.051726341247559\n",
      "epoch: 46 loss: 10.048789024353027\n",
      "epoch: 47 loss: 10.045975685119629\n",
      "epoch: 48 loss: 10.043277740478516\n",
      "epoch: 49 loss: 10.040694236755371\n",
      "epoch: 50 loss: 10.038217544555664\n",
      "epoch: 51 loss: 10.035845756530762\n",
      "epoch: 52 loss: 10.0335693359375\n",
      "epoch: 53 loss: 10.031391143798828\n",
      "epoch: 54 loss: 10.029302597045898\n",
      "epoch: 55 loss: 10.027301788330078\n",
      "epoch: 56 loss: 10.025382995605469\n",
      "epoch: 57 loss: 10.023545265197754\n",
      "epoch: 58 loss: 10.021784782409668\n",
      "epoch: 59 loss: 10.020096778869629\n",
      "epoch: 60 loss: 10.018478393554688\n",
      "epoch: 61 loss: 10.016928672790527\n",
      "epoch: 62 loss: 10.015443801879883\n",
      "epoch: 63 loss: 10.014020919799805\n",
      "epoch: 64 loss: 10.012655258178711\n",
      "epoch: 65 loss: 10.011348724365234\n",
      "epoch: 66 loss: 10.010095596313477\n",
      "epoch: 67 loss: 10.008894920349121\n",
      "epoch: 68 loss: 10.007745742797852\n",
      "epoch: 69 loss: 10.006641387939453\n",
      "epoch: 70 loss: 10.005583763122559\n",
      "epoch: 71 loss: 10.004571914672852\n",
      "epoch: 72 loss: 10.003600120544434\n",
      "epoch: 73 loss: 10.002669334411621\n",
      "epoch: 74 loss: 10.001778602600098\n",
      "epoch: 75 loss: 10.000923156738281\n",
      "epoch: 76 loss: 10.000104904174805\n",
      "epoch: 77 loss: 9.999320030212402\n",
      "epoch: 78 loss: 9.998566627502441\n",
      "epoch: 79 loss: 9.997846603393555\n",
      "epoch: 80 loss: 9.997154235839844\n",
      "epoch: 81 loss: 9.996493339538574\n",
      "epoch: 82 loss: 9.995858192443848\n",
      "epoch: 83 loss: 9.995250701904297\n",
      "epoch: 84 loss: 9.994667053222656\n",
      "epoch: 85 loss: 9.994109153747559\n",
      "epoch: 86 loss: 9.993573188781738\n",
      "epoch: 87 loss: 9.993059158325195\n",
      "epoch: 88 loss: 9.992568016052246\n",
      "epoch: 89 loss: 9.992095947265625\n",
      "epoch: 90 loss: 9.991643905639648\n",
      "epoch: 91 loss: 9.991209983825684\n",
      "epoch: 92 loss: 9.990795135498047\n",
      "epoch: 93 loss: 9.990396499633789\n",
      "epoch: 94 loss: 9.990015983581543\n",
      "epoch: 95 loss: 9.98965072631836\n",
      "epoch: 96 loss: 9.989299774169922\n",
      "epoch: 97 loss: 9.98896312713623\n",
      "epoch: 98 loss: 9.988641738891602\n",
      "epoch: 99 loss: 9.988332748413086\n"
     ]
    }
   ],
   "source": [
    "epochs = 100 \n",
    "losses = [] \n",
    "for i in range(epochs):   \n",
    "    y_pred = model.forward(X)   \n",
    "    loss = criterion(y_pred, y)   \n",
    "    print(\"epoch:\", i, \"loss:\", loss.item())      \n",
    "    losses.append(loss)      \n",
    "    optimizer.zero_grad()   \n",
    "    loss.backward()   \n",
    "    optimizer.step()"
   ]
  },
  {
   "cell_type": "code",
   "execution_count": 11,
   "id": "88154a72",
   "metadata": {},
   "outputs": [
    {
     "data": {
      "text/plain": [
       "Text(0.5, 0, 'epoch')"
      ]
     },
     "execution_count": 11,
     "metadata": {},
     "output_type": "execute_result"
    },
    {
     "data": {
      "image/png": "[encoded data removed]",
      "text/plain": [
       "<Figure size 432x288 with 1 Axes>"
      ]
     },
     "metadata": {
      "needs_background": "light"
     },
     "output_type": "display_data"
    }
   ],
   "source": [
    "plt.plot(range(epochs), losses)\n",
    "plt.ylabel('Loss')\n",
    "plt.xlabel('epoch')"
   ]
  },
  {
   "cell_type": "code",
   "execution_count": 12,
   "id": "61404b9c",
   "metadata": {},
   "outputs": [
    {
     "data": {
      "image/png": "[encoded data removed]",
      "text/plain": [
       "<Figure size 432x288 with 1 Axes>"
      ]
     },
     "metadata": {
      "needs_background": "light"
     },
     "output_type": "display_data"
    }
   ],
   "source": [
    "plot_fit()"
   ]
  },
  {
   "cell_type": "code",
   "execution_count": 13,
   "id": "146077b6",
   "metadata": {},
   "outputs": [
    {
     "name": "stdout",
     "output_type": "stream",
     "text": [
      "1.04535973072052 0.06317003071308136\n"
     ]
    }
   ],
   "source": [
    "w1, b1 = get_params()\n",
    "print(w1, b1)"
   ]
  },
  {
   "cell_type": "code",
   "execution_count": null,
   "id": "d10e9ce3",
   "metadata": {},
   "outputs": [],
   "source": []
  },
  {
   "cell_type": "code",
   "execution_count": null,
   "id": "3029c87b",
   "metadata": {},
   "outputs": [],
   "source": []
  }
 ],
 "metadata": {
  "kernelspec": {
   "display_name": "Python 3 (ipykernel)",
   "language": "python",
   "name": "python3"
  },
  "language_info": {
   "codemirror_mode": {
    "name": "ipython",
    "version": 3
   },
   "file_extension": ".py",
   "mimetype": "text/x-python",
   "name": "python",
   "nbconvert_exporter": "python",
   "pygments_lexer": "ipython3",
   "version": "3.9.7"
  }
 },
 "nbformat": 4,
 "nbformat_minor": 5
}
